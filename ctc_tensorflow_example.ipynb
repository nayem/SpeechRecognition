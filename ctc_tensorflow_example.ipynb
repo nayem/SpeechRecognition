{
 "cells": [
  {
   "cell_type": "code",
   "execution_count": 15,
   "metadata": {},
   "outputs": [],
   "source": [
    "# https://github.com/igormq/ctc_tensorflow_example/blob/master/ctc_tensorflow_example.py\n",
    "\n",
    "#  Compatibility imports\n",
    "from __future__ import absolute_import\n",
    "from __future__ import division\n",
    "from __future__ import print_function\n",
    "\n",
    "import time\n",
    "\n",
    "import tensorflow as tf\n",
    "import scipy.io.wavfile as wav\n",
    "import numpy as np\n",
    "import glob\n",
    "\n",
    "from six.moves import xrange as range\n",
    "\n",
    "import soundfile as sf"
   ]
  },
  {
   "cell_type": "code",
   "execution_count": 2,
   "metadata": {},
   "outputs": [],
   "source": [
    "try:\n",
    "    from python_speech_features import mfcc\n",
    "except ImportError:\n",
    "    print(\"Failed to import python_speech_features.\\n Try pip install python_speech_features.\")\n",
    "    raise ImportError\n",
    "\n",
    "from utils import maybe_download as maybe_download\n",
    "from utils import sparse_tuple_from as sparse_tuple_from"
   ]
  },
  {
   "cell_type": "code",
   "execution_count": 3,
   "metadata": {},
   "outputs": [],
   "source": [
    "# Constants\n",
    "SPACE_TOKEN = '<space>'\n",
    "SPACE_INDEX = 0\n",
    "FIRST_INDEX = ord('a') - 1  # 0 is reserved to space\n",
    "\n",
    "# Some configs\n",
    "num_features = 13\n",
    "num_units=50 # Number of units in the LSTM cell\n",
    "# Accounting the 0th indice +  space + blank label = 28 characters\n",
    "num_classes = ord('z') - ord('a') + 1 + 1 + 1\n",
    "\n",
    "# Hyper-parameters\n",
    "num_epochs = 10#200\n",
    "num_hidden = 50\n",
    "num_layers = 1\n",
    "batch_size = 1\n",
    "initial_learning_rate = 1e-2\n",
    "momentum = 0.9\n",
    "\n",
    "num_examples = 1\n",
    "num_batches_per_epoch = int(num_examples/batch_size)"
   ]
  },
  {
   "cell_type": "code",
   "execution_count": 4,
   "metadata": {},
   "outputs": [],
   "source": [
    "ROOT_DIRECTORY = 'TIMIT_full/train/'\n",
    "\n",
    "WAV_CLASS = '*.wav'\n",
    "TXT_CLASS = '*.txt'\n"
   ]
  },
  {
   "cell_type": "code",
   "execution_count": 13,
   "metadata": {},
   "outputs": [],
   "source": [
    "def load_dataset(directory_path):\n",
    "\n",
    "    print(directory_path)\n",
    "    for e, f in enumerate(glob.glob(directory_path)) :\n",
    "        \n",
    "        \n",
    "        audio, fs = sf.read(f)\n",
    "#         fs, audio = wav.read(str(f))\n",
    "        inputs = mfcc(audio, samplerate=fs)\n",
    "        \n",
    "        # Tranform in 3D array\n",
    "        train_inputs = np.asarray(inputs[np.newaxis, :])\n",
    "        train_inputs = (train_inputs - np.mean(train_inputs))/np.std(train_inputs)\n",
    "        train_seq_len = [train_inputs.shape[1]]\n",
    "        \n",
    "        print('E:',e, ',Len:', train_seq_len, ',FileName:',f)\n",
    "        "
   ]
  },
  {
   "cell_type": "code",
   "execution_count": 14,
   "metadata": {},
   "outputs": [
    {
     "name": "stdout",
     "output_type": "stream",
     "text": [
      "TIMIT_full/train/*/*/*.wav\n",
      "fs 16000\n",
      "audio [ 1.52587891e-04  9.15527344e-05  3.05175781e-05 ...  6.10351562e-05\n",
      " -6.10351562e-05  9.15527344e-05]\n",
      "E: 0 ,Len: [272] ,FileName: TIMIT_full/train/dr6/mmdb0/sa1.wav\n",
      "norm [[[-0.4133509  -1.39542963  0.37596489 ...  0.53152877  0.45852608\n",
      "    0.24736412]\n",
      "  [-0.41983402 -1.38390244  0.37551492 ...  0.04018824  0.54333392\n",
      "    0.53107382]\n",
      "  [-0.41645274 -1.44844028  0.53282634 ...  0.5154551   0.36089518\n",
      "    0.9546936 ]\n",
      "  ...\n",
      "  [-0.41028475 -1.39298503  0.46951239 ...  0.36741592  0.51100769\n",
      "    0.98108809]\n",
      "  [-0.408133   -1.49983445  0.37692412 ... -0.30854691  0.49991754\n",
      "    0.70151357]\n",
      "  [-0.41377898 -1.42517416  0.34546041 ...  0.44810956  0.84510248\n",
      "    0.48243096]]]\n"
     ]
    }
   ],
   "source": [
    "load_dataset(ROOT_DIRECTORY+WAV_CLASS)   "
   ]
  },
  {
   "cell_type": "code",
   "execution_count": 7,
   "metadata": {},
   "outputs": [],
   "source": [
    "# Loading the data\n",
    "\n",
    "# audio_filename = maybe_download('LDC93S1.wav', 93638)\n",
    "# target_filename = maybe_download('LDC93S1.txt', 62)\n",
    "\n",
    "audio_filename = 'sa2.wav'\n",
    "target_filename ='sa2.txt'\n",
    "\n",
    "fs, audio = wav.read(audio_filename)\n",
    "\n",
    "inputs = mfcc(audio, samplerate=fs)\n",
    "# Tranform in 3D array\n",
    "train_inputs = np.asarray(inputs[np.newaxis, :])\n",
    "train_inputs = (train_inputs - np.mean(train_inputs))/np.std(train_inputs)\n",
    "train_seq_len = [train_inputs.shape[1]]"
   ]
  },
  {
   "cell_type": "code",
   "execution_count": 59,
   "metadata": {},
   "outputs": [],
   "source": [
    "# Readings targets\n",
    "with open(target_filename, 'r') as f:\n",
    "\n",
    "    #Only the last line is necessary\n",
    "    line = f.readlines()[-1]\n",
    "\n",
    "    # Get only the words between [a-z] and replace period for none\n",
    "    original = ' '.join(line.strip().lower().split(' ')[2:]).replace('.', '')\n",
    "    targets = original.replace(' ', '  ')\n",
    "    targets = targets.split(' ')"
   ]
  },
  {
   "cell_type": "code",
   "execution_count": 60,
   "metadata": {},
   "outputs": [
    {
     "data": {
      "text/plain": [
       "[\"don't\",\n",
       " '',\n",
       " 'ask',\n",
       " '',\n",
       " 'me',\n",
       " '',\n",
       " 'to',\n",
       " '',\n",
       " 'carry',\n",
       " '',\n",
       " 'an',\n",
       " '',\n",
       " 'oily',\n",
       " '',\n",
       " 'rag',\n",
       " '',\n",
       " 'like',\n",
       " '',\n",
       " 'that']"
      ]
     },
     "execution_count": 60,
     "metadata": {},
     "output_type": "execute_result"
    }
   ],
   "source": [
    "targets"
   ]
  },
  {
   "cell_type": "code",
   "execution_count": 61,
   "metadata": {},
   "outputs": [
    {
     "name": "stdout",
     "output_type": "stream",
     "text": [
      "targets: ['d' 'o' 'n' \"'\" 't' '<space>' 'a' 's' 'k' '<space>' 'm' 'e' '<space>' 't'\n",
      " 'o' '<space>' 'c' 'a' 'r' 'r' 'y' '<space>' 'a' 'n' '<space>' 'o' 'i' 'l'\n",
      " 'y' '<space>' 'r' 'a' 'g' '<space>' 'l' 'i' 'k' 'e' '<space>' 't' 'h' 'a'\n",
      " 't']\n",
      "targets: [  4  15  14 -57  20   0   1  19  11   0  13   5   0  20  15   0   3   1\n",
      "  18  18  25   0   1  14   0  15   9  12  25   0  18   1   7   0  12   9\n",
      "  11   5   0  20   8   1  20]\n"
     ]
    }
   ],
   "source": [
    "# Adding blank label\n",
    "targets = np.hstack([SPACE_TOKEN if x == '' else list(x) for x in targets])\n",
    "print('targets:', targets)\n",
    "\n",
    "# Transform char into index\n",
    "targets = np.asarray([SPACE_INDEX if x == SPACE_TOKEN else ord(x) - FIRST_INDEX\n",
    "                      for x in targets])\n",
    "print('targets:', targets)\n",
    "\n",
    "# Creating sparse representation to feed the placeholder\n",
    "train_targets = sparse_tuple_from([targets])"
   ]
  },
  {
   "cell_type": "code",
   "execution_count": 57,
   "metadata": {},
   "outputs": [
    {
     "data": {
      "text/plain": [
       "array([  4,  15,  14, -57,  20,   0,   1,  19,  11,   0,  13,   5,   0,\n",
       "        20,  15,   0,   3,   1,  18,  18,  25,   0,   1,  14,   0,  15,\n",
       "         9,  12,  25,   0,  18,   1,   7,   0,  12,   9,  11,   5,   0,\n",
       "        20,   8,   1,  20])"
      ]
     },
     "execution_count": 57,
     "metadata": {},
     "output_type": "execute_result"
    }
   ],
   "source": [
    "targets"
   ]
  },
  {
   "cell_type": "code",
   "execution_count": 35,
   "metadata": {},
   "outputs": [],
   "source": [
    "# We don't have a validation dataset :(\n",
    "val_inputs, val_targets, val_seq_len = train_inputs, train_targets, \\\n",
    "                                       train_seq_len"
   ]
  },
  {
   "cell_type": "code",
   "execution_count": 36,
   "metadata": {},
   "outputs": [],
   "source": [
    "# THE MAIN CODE!\n",
    "\n",
    "graph = tf.Graph()\n",
    "with graph.as_default():\n",
    "    # e.g: log filter bank or MFCC features\n",
    "    # Has size [batch_size, max_stepsize, num_features], but the\n",
    "    # batch_size and max_stepsize can vary along each step\n",
    "    inputs = tf.placeholder(tf.float32, [None, None, num_features])\n",
    "\n",
    "    # Here we use sparse_placeholder that will generate a\n",
    "    # SparseTensor required by ctc_loss op.\n",
    "    targets = tf.sparse_placeholder(tf.int32)\n",
    "\n",
    "    # 1d array of size [batch_size]\n",
    "    seq_len = tf.placeholder(tf.int32, [None])\n",
    "\n",
    "    # Defining the cell\n",
    "    # Can be:\n",
    "    #   tf.nn.rnn_cell.RNNCell\n",
    "    #   tf.nn.rnn_cell.GRUCell \n",
    "    cells = []\n",
    "    for _ in range(num_layers):\n",
    "        cell = tf.contrib.rnn.LSTMCell(num_units)  # Or LSTMCell(num_units)\n",
    "        cells.append(cell)\n",
    "    stack = tf.contrib.rnn.MultiRNNCell(cells)\n",
    "\n",
    "    # The second output is the last state and we will no use that\n",
    "    outputs, _ = tf.nn.dynamic_rnn(stack, inputs, seq_len, dtype=tf.float32)\n",
    "\n",
    "    shape = tf.shape(inputs)\n",
    "    batch_s, max_timesteps = shape[0], shape[1]\n",
    "\n",
    "    # Reshaping to apply the same weights over the timesteps\n",
    "    outputs = tf.reshape(outputs, [-1, num_hidden])\n",
    "\n",
    "    # Truncated normal with mean 0 and stdev=0.1\n",
    "    # Tip: Try another initialization\n",
    "    # see https://www.tensorflow.org/versions/r0.9/api_docs/python/contrib.layers.html#initializers\n",
    "    W = tf.Variable(tf.truncated_normal([num_hidden,\n",
    "                                         num_classes],\n",
    "                                        stddev=0.1))\n",
    "    # Zero initialization\n",
    "    # Tip: Is tf.zeros_initializer the same?\n",
    "    b = tf.Variable(tf.constant(0., shape=[num_classes]))\n",
    "\n",
    "    # Doing the affine projection\n",
    "    logits = tf.matmul(outputs, W) + b\n",
    "\n",
    "    # Reshaping back to the original shape\n",
    "    logits = tf.reshape(logits, [batch_s, -1, num_classes])\n",
    "\n",
    "    # Time major\n",
    "    logits = tf.transpose(logits, (1, 0, 2))\n",
    "\n",
    "    loss = tf.nn.ctc_loss(targets, logits, seq_len)\n",
    "    cost = tf.reduce_mean(loss)\n",
    "\n",
    "    optimizer = tf.train.MomentumOptimizer(initial_learning_rate,\n",
    "                                           0.9).minimize(cost)\n",
    "\n",
    "    # Option 2: tf.nn.ctc_beam_search_decoder\n",
    "    # (it's slower but you'll get better results)\n",
    "    decoded, log_prob = tf.nn.ctc_greedy_decoder(logits, seq_len)\n",
    "\n",
    "    # Inaccuracy: label error rate\n",
    "    ler = tf.reduce_mean(tf.edit_distance(tf.cast(decoded[0], tf.int32),\n",
    "                                          targets))"
   ]
  },
  {
   "cell_type": "code",
   "execution_count": 38,
   "metadata": {},
   "outputs": [
    {
     "name": "stdout",
     "output_type": "stream",
     "text": [
      "Epoch 1/10, train_cost = 675.332, train_ler = 0.810, val_cost = 458.884, val_ler = 0.810, time = 0.970\n",
      "Epoch 2/10, train_cost = 458.884, train_ler = 0.976, val_cost = 260.556, val_ler = 0.976, time = 0.342\n",
      "Epoch 3/10, train_cost = 260.556, train_ler = 0.976, val_cost = 349.951, val_ler = 0.976, time = 0.365\n",
      "Epoch 4/10, train_cost = 349.951, train_ler = 0.762, val_cost = 224.585, val_ler = 0.762, time = 0.353\n",
      "Epoch 5/10, train_cost = 224.585, train_ler = 0.905, val_cost = 190.334, val_ler = 0.905, time = 0.351\n",
      "Epoch 6/10, train_cost = 190.334, train_ler = 0.786, val_cost = 188.816, val_ler = 0.786, time = 0.362\n",
      "Epoch 7/10, train_cost = 188.816, train_ler = 0.929, val_cost = 166.551, val_ler = 0.929, time = 0.317\n",
      "Epoch 8/10, train_cost = 166.551, train_ler = 0.881, val_cost = 158.680, val_ler = 0.881, time = 0.338\n",
      "Epoch 9/10, train_cost = 158.680, train_ler = 0.905, val_cost = 143.112, val_ler = 0.905, time = 0.341\n",
      "Epoch 10/10, train_cost = 143.112, train_ler = 0.786, val_cost = 137.147, val_ler = 0.786, time = 0.376\n",
      "Original:\n",
      "dont ask me to carry an oily rag like that\n",
      "Decoded:\n",
      "t t t atat\n"
     ]
    }
   ],
   "source": [
    "with tf.Session(graph=graph) as session:\n",
    "    # Initializate the weights and biases\n",
    "    tf.global_variables_initializer().run()\n",
    "\n",
    "\n",
    "    for curr_epoch in range(num_epochs):\n",
    "        train_cost = train_ler = 0\n",
    "        start = time.time()\n",
    "\n",
    "        for batch in range(num_batches_per_epoch):\n",
    "\n",
    "            feed = {inputs: train_inputs,\n",
    "                    targets: train_targets,\n",
    "                    seq_len: train_seq_len}\n",
    "\n",
    "            batch_cost, _ = session.run([cost, optimizer], feed)\n",
    "            train_cost += batch_cost*batch_size\n",
    "            train_ler += session.run(ler, feed_dict=feed)*batch_size\n",
    "\n",
    "        train_cost /= num_examples\n",
    "        train_ler /= num_examples\n",
    "\n",
    "        val_feed = {inputs: val_inputs,\n",
    "                    targets: val_targets,\n",
    "                    seq_len: val_seq_len}\n",
    "\n",
    "        val_cost, val_ler = session.run([cost, ler], feed_dict=val_feed)\n",
    "\n",
    "        log = \"Epoch {}/{}, train_cost = {:.3f}, train_ler = {:.3f}, val_cost = {:.3f}, val_ler = {:.3f}, time = {:.3f}\"\n",
    "        print(log.format(curr_epoch+1, num_epochs, train_cost, train_ler,\n",
    "                         val_cost, val_ler, time.time() - start))\n",
    "    # Decoding\n",
    "    d = session.run(decoded[0], feed_dict=feed)\n",
    "    str_decoded = ''.join([chr(x) for x in np.asarray(d[1]) + FIRST_INDEX])\n",
    "    # Replacing blank label to none\n",
    "    str_decoded = str_decoded.replace(chr(ord('z') + 1), '')\n",
    "    # Replacing space label to space\n",
    "    str_decoded = str_decoded.replace(chr(ord('a') - 1), ' ')\n",
    "\n",
    "    print('Original:\\n%s' % original)\n",
    "    print('Decoded:\\n%s' % str_decoded)"
   ]
  }
 ],
 "metadata": {
  "kernelspec": {
   "display_name": "Python 3",
   "language": "python",
   "name": "python3"
  },
  "language_info": {
   "codemirror_mode": {
    "name": "ipython",
    "version": 3
   },
   "file_extension": ".py",
   "mimetype": "text/x-python",
   "name": "python",
   "nbconvert_exporter": "python",
   "pygments_lexer": "ipython3",
   "version": "3.6.4"
  }
 },
 "nbformat": 4,
 "nbformat_minor": 2
}
