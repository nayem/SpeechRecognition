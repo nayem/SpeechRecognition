{
 "cells": [
  {
   "cell_type": "markdown",
   "metadata": {},
   "source": [
    "### HW Problem 2"
   ]
  },
  {
   "cell_type": "code",
   "execution_count": 2,
   "metadata": {},
   "outputs": [],
   "source": [
    "# Imports\n",
    "import numpy as np\n",
    "import tensorflow as tf\n",
    "\n",
    "import os\n",
    "os.environ[\"CUDA_DEVICE_ORDER\"]=\"PCI_BUS_ID\"   # see issue #152\n",
    "os.environ[\"CUDA_VISIBLE_DEVICES\"]=\"0\"\n",
    "import tensorflow as tf\n",
    "import numpy as np\n",
    "import time\n",
    "\n",
    "import matplotlib.pyplot as plt\n",
    "tf.logging.set_verbosity(tf.logging.INFO)\n"
   ]
  },
  {
   "cell_type": "markdown",
   "metadata": {},
   "source": [
    "### Configuration setup"
   ]
  },
  {
   "cell_type": "code",
   "execution_count": 3,
   "metadata": {},
   "outputs": [],
   "source": [
    "config = tf.ConfigProto()\n",
    "config.gpu_options.allow_growth = True\n",
    "config.gpu_options.per_process_gpu_memory_fraction = 0.33"
   ]
  },
  {
   "cell_type": "markdown",
   "metadata": {},
   "source": [
    "### Convert into spectograms"
   ]
  },
  {
   "cell_type": "code",
   "execution_count": 4,
   "metadata": {},
   "outputs": [],
   "source": [
    "import librosa\n",
    "s, sr=librosa.load('train_clean_male.wav', sr=None)\n",
    "S=librosa.stft(s, n_fft=1024, hop_length=512)\n",
    "\n",
    "sn, sr=librosa.load('train_dirty_male.wav', sr=None)\n",
    "X=librosa.stft(sn, n_fft=1024, hop_length=512)"
   ]
  },
  {
   "cell_type": "code",
   "execution_count": 5,
   "metadata": {},
   "outputs": [],
   "source": [
    "mag_S=np.abs(S)\n",
    "mag_X=np.abs(X)\n",
    "# print(mag_S.shape, mag_X.shape, mag_Stest.shape)"
   ]
  },
  {
   "cell_type": "markdown",
   "metadata": {},
   "source": [
    "### Create the model"
   ]
  },
  {
   "cell_type": "code",
   "execution_count": 35,
   "metadata": {},
   "outputs": [],
   "source": [
    "def xavierfunc(shape):\n",
    "    return np.sqrt(2.0/sum(shape))"
   ]
  },
  {
   "cell_type": "code",
   "execution_count": 36,
   "metadata": {},
   "outputs": [],
   "source": [
    "\n",
    "x = tf.placeholder(tf.float32, [None, 513])\n",
    "y_ = tf.placeholder(tf.float32, [None, 513]) # original\n",
    "\n",
    "# W1 = tf.Variable(tf.truncated_normal([513, 1024], stddev = np.sqrt(1.0/sum([513, 1024])) ))\n",
    "# b1 = tf.Variable(tf.truncated_normal([1024], stddev = np.sqrt(1.0/sum([1024])) ))\n",
    "\n",
    "W1 = tf.Variable(tf.truncated_normal([513, 1024], stddev = xavierfunc([513, 1024]) ))\n",
    "b1 = tf.Variable(tf.truncated_normal([1024], stddev = xavierfunc([1024]) ))\n",
    "\n",
    "W2 = tf.Variable(tf.truncated_normal([1024, 1024], stddev = xavierfunc([1024, 1024]) ))\n",
    "b2 = tf.Variable(tf.truncated_normal([1024], stddev = xavierfunc([1024]) ))\n",
    "\n",
    "W3 = tf.Variable(tf.truncated_normal([1024, 513], stddev = xavierfunc([1024, 513]) ))\n",
    "b3 = tf.Variable(tf.truncated_normal([513], stddev = xavierfunc([513]) ))\n",
    "\n",
    "y1 = tf.nn.relu((x@W1) + b1)\n",
    "y2 = tf.nn.relu((y1@W2) + b2)\n",
    "y_pred = tf.nn.relu((y2@W3) + b3 )# predicted\n",
    "\n",
    "mean_sqr = tf.losses.mean_squared_error(labels=y_, predictions=y_pred)\n",
    "train_model = tf.train.AdamOptimizer().minimize(mean_sqr)"
   ]
  },
  {
   "cell_type": "code",
   "execution_count": 38,
   "metadata": {},
   "outputs": [],
   "source": [
    "sess = tf.InteractiveSession(config=config)\n",
    "tf.global_variables_initializer().run()\n"
   ]
  },
  {
   "cell_type": "markdown",
   "metadata": {},
   "source": [
    "### Run the model"
   ]
  },
  {
   "cell_type": "code",
   "execution_count": 39,
   "metadata": {},
   "outputs": [],
   "source": [
    "# Train\n",
    "for i in range(1000):\n",
    "    ts = sess.run(train_model, feed_dict={x: mag_X.T, y_: mag_S.T})\n"
   ]
  },
  {
   "cell_type": "markdown",
   "metadata": {},
   "source": [
    "### Test the model"
   ]
  },
  {
   "cell_type": "code",
   "execution_count": 40,
   "metadata": {},
   "outputs": [],
   "source": [
    "s, sr=librosa.load('test_x_01.wav', sr=None)\n",
    "Stest_01=librosa.stft(s, n_fft=1024, hop_length=512)\n",
    "mag_Stest_01=np.abs(Stest_01)"
   ]
  },
  {
   "cell_type": "code",
   "execution_count": 41,
   "metadata": {},
   "outputs": [],
   "source": [
    "# Test trained model\n",
    "Stest_hat_01=sess.run(y_pred, feed_dict={x: mag_Stest_01.T})\n",
    "S_hat_01=(Stest_01/mag_Stest_01)*Stest_hat_01.T\n",
    "\n",
    "S_time_01=librosa.istft(S_hat_01, hop_length=512)\n",
    "librosa.output.write_wav('test_s_01_recons.wav', S_time_01, sr)"
   ]
  },
  {
   "cell_type": "code",
   "execution_count": 42,
   "metadata": {},
   "outputs": [],
   "source": [
    "s, sr=librosa.load('test_x_02.wav', sr=None)\n",
    "Stest_02=librosa.stft(s, n_fft=1024, hop_length=512)\n",
    "mag_Stest_02=np.abs(Stest_02)"
   ]
  },
  {
   "cell_type": "code",
   "execution_count": 43,
   "metadata": {},
   "outputs": [],
   "source": [
    "# Test trained model\n",
    "Stest_hat_02=sess.run(y_pred, feed_dict={x: mag_Stest_02.T})\n",
    "S_hat_02=(Stest_02/mag_Stest_02)*Stest_hat_02.T\n",
    "\n",
    "S_time_02=librosa.istft(S_hat_02, hop_length=512)\n",
    "librosa.output.write_wav('test_s_02_recons.wav', S_time_02, sr)"
   ]
  }
 ],
 "metadata": {
  "kernelspec": {
   "display_name": "Python 3",
   "language": "python",
   "name": "python3"
  }
 },
 "nbformat": 4,
 "nbformat_minor": 2
}
