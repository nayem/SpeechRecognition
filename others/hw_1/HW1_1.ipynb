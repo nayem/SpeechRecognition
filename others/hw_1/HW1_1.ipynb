{
 "cells": [
  {
   "cell_type": "code",
   "execution_count": 1,
   "metadata": {},
   "outputs": [
    {
     "name": "stdout",
     "output_type": "stream",
     "text": [
      "[name: \"/device:CPU:0\"\n",
      "device_type: \"CPU\"\n",
      "memory_limit: 268435456\n",
      "locality {\n",
      "}\n",
      "incarnation: 17046149457085610220\n",
      ", name: \"/device:GPU:0\"\n",
      "device_type: \"GPU\"\n",
      "memory_limit: 15598606746\n",
      "locality {\n",
      "  bus_id: 1\n",
      "}\n",
      "incarnation: 5276446417967312130\n",
      "physical_device_desc: \"device: 0, name: Tesla V100-SXM2-16GB, pci bus id: 0000:05:00.0, compute capability: 7.0\"\n",
      "]\n"
     ]
    }
   ],
   "source": [
    "import os\n",
    "os.environ[\"CUDA_DEVICE_ORDER\"]=\"PCI_BUS_ID\"   # see issue #152\n",
    "os.environ[\"CUDA_VISIBLE_DEVICES\"]=\"1\"\n",
    "\n",
    "import tensorflow as tf\n",
    "import numpy as np\n",
    "import time\n",
    "import matplotlib.pyplot as plt\n",
    "# import sys\n",
    "\n",
    "from tensorflow.python.client import device_lib\n",
    "\n",
    "print(device_lib.list_local_devices())\n",
    "%matplotlib notebook"
   ]
  },
  {
   "cell_type": "markdown",
   "metadata": {},
   "source": [
    "### Importing MNIST dataset"
   ]
  },
  {
   "cell_type": "code",
   "execution_count": 2,
   "metadata": {},
   "outputs": [
    {
     "name": "stdout",
     "output_type": "stream",
     "text": [
      "Extracting MNIST_data/train-images-idx3-ubyte.gz\n",
      "Extracting MNIST_data/train-labels-idx1-ubyte.gz\n",
      "Extracting MNIST_data/t10k-images-idx3-ubyte.gz\n",
      "Extracting MNIST_data/t10k-labels-idx1-ubyte.gz\n"
     ]
    }
   ],
   "source": [
    "from tensorflow.examples.tutorials.mnist import input_data\n",
    "mnist = input_data.read_data_sets('MNIST_data', one_hot=True)"
   ]
  },
  {
   "cell_type": "markdown",
   "metadata": {},
   "source": [
    "### Xavier Initialization "
   ]
  },
  {
   "cell_type": "code",
   "execution_count": 3,
   "metadata": {},
   "outputs": [],
   "source": [
    "def weight_variable (shape):\n",
    "    initial = tf.truncated_normal(shape, stddev = np.sqrt(2.0/sum(shape)) )\n",
    "    return tf.Variable(initial)\n",
    "\n",
    "def bias_variable (shape):\n",
    "#     initial = tf.constant(0.1, shape=shape)\n",
    "    initial = tf.truncated_normal(shape, stddev = np.sqrt(1.0/sum(shape)) )\n",
    "    return tf.Variable(initial)"
   ]
  },
  {
   "cell_type": "markdown",
   "metadata": {},
   "source": [
    "### Create the model"
   ]
  },
  {
   "cell_type": "code",
   "execution_count": 4,
   "metadata": {},
   "outputs": [],
   "source": [
    "# Create the model\n",
    "x = tf.placeholder(tf.float32, [None, 784])\n",
    "# W = tf.Variable(tf.zeros([784, 10]))\n",
    "# b = tf.Variable(tf.zeros([10]))\n",
    "# y = tf.matmul(x, W) + b\n",
    "\n",
    "W_1 = weight_variable([784, 1024])\n",
    "b_1 = bias_variable([1024])\n",
    "\n",
    "W_2 = weight_variable([1024, 1024])\n",
    "b_2 = bias_variable([1024])\n",
    "\n",
    "W_3 = weight_variable([1024, 1024])\n",
    "b_3 = bias_variable([1024])\n",
    "\n",
    "W_4 = weight_variable([1024, 1024])\n",
    "b_4 = bias_variable([1024])\n",
    "\n",
    "W_5 = weight_variable([1024, 10])\n",
    "b_5 = bias_variable([10])\n",
    "\n",
    "y_1 = tf.nn.relu(tf.matmul(x, W_1) + b_1)\n",
    "y_2 = tf.nn.relu(tf.matmul(y_1, W_2) + b_2)\n",
    "y_3 = tf.nn.relu(tf.matmul(y_2, W_3) + b_3)\n",
    "y_4 = tf.nn.relu(tf.matmul(y_3, W_4) + b_4)\n",
    "y = tf.matmul(y_4, W_5) + b_5 # predicted\n",
    "\n",
    "# Define loss and optimizer\n",
    "y_ = tf.placeholder(tf.float32, [None, 10]) # original\n",
    "\n",
    "cross_entropy = tf.reduce_mean(tf.nn.softmax_cross_entropy_with_logits_v2(labels=y_, logits=y))\n",
    "train_step = tf.train.AdamOptimizer().minimize(cross_entropy)"
   ]
  },
  {
   "cell_type": "markdown",
   "metadata": {},
   "source": [
    "### Run the model (q1, q2)"
   ]
  },
  {
   "cell_type": "code",
   "execution_count": 6,
   "metadata": {},
   "outputs": [
    {
     "name": "stdout",
     "output_type": "stream",
     "text": [
      "Accuracy: 0.9858\n"
     ]
    }
   ],
   "source": [
    "sess = tf.InteractiveSession()\n",
    "tf.global_variables_initializer().run()\n",
    "\n",
    "# Train\n",
    "for _ in range(10000):\n",
    "    batch_xs, batch_ys = mnist.train.next_batch(1000)\n",
    "    sess.run(train_step, feed_dict={x: batch_xs, y_: batch_ys})\n",
    "\n",
    "# Test trained model\n",
    "correct_prediction = tf.equal(tf.argmax(y, 1), tf.argmax(y_, 1))\n",
    "accuracy = tf.reduce_mean(tf.cast(correct_prediction, tf.float32))\n",
    "print(\"Accuracy:\",sess.run(accuracy, feed_dict={x: mnist.test.images,\n",
    "                                      y_: mnist.test.labels}))"
   ]
  },
  {
   "cell_type": "markdown",
   "metadata": {},
   "source": [
    "### Last Layer vizualization (q3)"
   ]
  },
  {
   "cell_type": "code",
   "execution_count": 11,
   "metadata": {},
   "outputs": [
    {
     "name": "stdout",
     "output_type": "stream",
     "text": [
      "Accuracy: [1.0, array([[2.93664184e-15, 3.35836109e-10, 1.25363240e-12, 1.01327289e-11,\n",
      "        1.41688008e-15, 5.43817122e-16, 6.65411464e-18, 1.00000000e+00,\n",
      "        4.32307236e-15, 9.67879665e-11],\n",
      "       [5.13774336e-11, 4.48928503e-08, 1.00000000e+00, 8.86737125e-12,\n",
      "        6.62747288e-12, 3.87197259e-14, 5.07285325e-11, 1.87416714e-11,\n",
      "        9.21176004e-13, 8.93662852e-16],\n",
      "       [2.06583972e-10, 9.99999881e-01, 1.18768977e-08, 5.69905893e-11,\n",
      "        3.44415341e-09, 6.27861374e-10, 6.60687505e-08, 4.08552125e-08,\n",
      "        1.17789876e-08, 4.68842812e-11],\n",
      "       [9.99978900e-01, 7.10923658e-08, 9.32221326e-07, 4.19039132e-08,\n",
      "        2.16138702e-07, 2.90155864e-08, 1.85680201e-05, 6.28859482e-07,\n",
      "        5.91680944e-08, 5.80850497e-07],\n",
      "       [1.33250531e-08, 1.14696173e-08, 8.54855742e-08, 4.03700878e-10,\n",
      "        9.99972701e-01, 1.78669080e-08, 3.28026566e-08, 4.60147866e-08,\n",
      "        8.73844908e-09, 2.70214496e-05],\n",
      "       [5.76918374e-12, 1.00000000e+00, 1.33617464e-10, 1.95747845e-12,\n",
      "        1.13790102e-10, 6.01415922e-12, 4.38401537e-10, 2.77669372e-08,\n",
      "        3.15513504e-10, 2.89767082e-12],\n",
      "       [1.75779334e-07, 2.74062745e-06, 2.23293023e-06, 3.16389247e-07,\n",
      "        9.96405244e-01, 1.28886866e-04, 1.15809044e-05, 4.51244114e-06,\n",
      "        3.41838482e-03, 2.59739973e-05],\n",
      "       [2.60146393e-08, 3.50762335e-08, 1.74814652e-08, 9.56267468e-06,\n",
      "        6.90181764e-07, 6.90051039e-08, 3.81532916e-10, 4.07331299e-06,\n",
      "        2.88531972e-08, 9.99985576e-01],\n",
      "       [3.46276607e-08, 2.92333993e-06, 1.73620137e-07, 2.61277762e-07,\n",
      "        3.06602317e-07, 9.86689031e-01, 1.19826868e-02, 3.26257577e-07,\n",
      "        1.32176117e-03, 2.39763676e-06],\n",
      "       [6.59753692e-14, 2.68502749e-13, 1.35032705e-14, 1.43678396e-12,\n",
      "        4.21111768e-09, 1.84884931e-14, 3.98930442e-16, 1.04258175e-08,\n",
      "        2.38538139e-13, 1.00000000e+00]], dtype=float32)]\n"
     ]
    }
   ],
   "source": [
    "y_est = tf.nn.softmax(y)\n",
    "# ce = cross_entropy(sm)\n",
    "# cross_entropy = tf.reduce_mean(-tf.reduce_sum(y_ * tf.log(y), reduction_indices=[1]))\n",
    "\n",
    "print(\"Accuracy:\",sess.run([accuracy, y_est], feed_dict={x: mnist.test.images[:10,],\n",
    "                                      y_: mnist.test.labels[:10,]}))"
   ]
  }
 ],
 "metadata": {
  "kernelspec": {
   "display_name": "Python 3",
   "language": "python",
   "name": "python3"
  },
  "language_info": {
   "codemirror_mode": {
    "name": "ipython",
    "version": 3
   },
   "file_extension": ".py",
   "mimetype": "text/x-python",
   "name": "python",
   "nbconvert_exporter": "python",
   "pygments_lexer": "ipython3",
   "version": "3.6.4"
  }
 },
 "nbformat": 4,
 "nbformat_minor": 2
}
