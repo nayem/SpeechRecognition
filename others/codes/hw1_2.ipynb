{
 "cells": [
  {
   "cell_type": "code",
   "execution_count": 13,
   "metadata": {},
   "outputs": [],
   "source": [
    "from __future__ import absolute_import\n",
    "from __future__ import division\n",
    "from __future__ import print_function\n",
    "\n",
    "# Imports\n",
    "import numpy as np\n",
    "import tensorflow as tf\n",
    "\n",
    "import os\n",
    "os.environ[\"CUDA_DEVICE_ORDER\"]=\"PCI_BUS_ID\"   # see issue #152\n",
    "os.environ[\"CUDA_VISIBLE_DEVICES\"]=\"0\"\n",
    "import tensorflow as tf\n",
    "import numpy as np\n",
    "import time\n",
    "\n",
    "import matplotlib.pyplot as plt\n",
    "tf.logging.set_verbosity(tf.logging.INFO)\n"
   ]
  },
  {
   "cell_type": "code",
   "execution_count": 14,
   "metadata": {},
   "outputs": [],
   "source": [
    "config = tf.ConfigProto()\n",
    "config.gpu_options.allow_growth = True\n",
    "config.gpu_options.per_process_gpu_memory_fraction = 0.33"
   ]
  },
  {
   "cell_type": "code",
   "execution_count": 15,
   "metadata": {},
   "outputs": [],
   "source": [
    "import librosa\n",
    "s, sr=librosa.load('train_clean_male.wav', sr=None)\n",
    "\n",
    "S=librosa.stft(s, n_fft=1024, hop_length=512)\n",
    "sn, sr=librosa.load('train_dirty_male.wav', sr=None)\n",
    "X=librosa.stft(sn, n_fft=1024, hop_length=512)"
   ]
  },
  {
   "cell_type": "code",
   "execution_count": 16,
   "metadata": {},
   "outputs": [],
   "source": [
    "import librosa\n",
    "s, sr=librosa.load('test_x_01.wav', sr=None)\n",
    "\n",
    "Stest=librosa.stft(s, n_fft=1024, hop_length=512)\n",
    "# sn, sr=librosa.load('train_dirty_male.wav', sr=None)\n",
    "# X=librosa.stft(sn, n_fft=1024, hop_length=512)"
   ]
  },
  {
   "cell_type": "code",
   "execution_count": 17,
   "metadata": {},
   "outputs": [
    {
     "name": "stdout",
     "output_type": "stream",
     "text": [
      "[ 0.00067139 -0.00033569 -0.00045776 ...  0.00027466  0.00067139\n",
      "  0.00036621] [ 0.00048828  0.00018311  0.00021362 ...  0.0007019  -0.00045776\n",
      " -0.00097656]\n"
     ]
    }
   ],
   "source": [
    "print(s, sn)"
   ]
  },
  {
   "cell_type": "code",
   "execution_count": 18,
   "metadata": {},
   "outputs": [
    {
     "name": "stdout",
     "output_type": "stream",
     "text": [
      "(513, 2459) (513, 2459) (513, 142)\n"
     ]
    }
   ],
   "source": [
    "mag_S=np.abs(S)\n",
    "mag_X=np.abs(X)\n",
    "mag_Stest=np.abs(Stest)\n",
    "print(mag_S.shape, mag_X.shape, mag_Stest.shape)"
   ]
  },
  {
   "cell_type": "code",
   "execution_count": 19,
   "metadata": {},
   "outputs": [],
   "source": [
    "def weight_variable (shape):\n",
    "    initial = tf.truncated_normal(shape, stddev = np.sqrt(2.0/sum(shape)) )\n",
    "    return tf.Variable(initial)\n",
    "\n",
    "def bias_variable (shape):\n",
    "#     initial = tf.constant(0.1, shape=shape)\n",
    "    initial = tf.truncated_normal(shape, stddev = np.sqrt(1.0/sum(shape)) )\n",
    "    return tf.Variable(initial)"
   ]
  },
  {
   "cell_type": "code",
   "execution_count": 20,
   "metadata": {},
   "outputs": [],
   "source": [
    "# Create the model\n",
    "x = tf.placeholder(tf.float32, [None, 513])\n",
    "# W = tf.Variable(tf.zeros([784, 10]))\n",
    "# b = tf.Variable(tf.zeros([10]))\n",
    "# y = tf.matmul(x, W) + b\n",
    "\n",
    "W_1 = weight_variable([513, 1024])\n",
    "b_1 = bias_variable([1024])\n",
    "\n",
    "W_2 = weight_variable([1024, 1024])\n",
    "b_2 = bias_variable([1024])\n",
    "\n",
    "W_3 = weight_variable([1024, 1024])\n",
    "b_3 = bias_variable([1024])\n",
    "\n",
    "W_4 = weight_variable([1024, 1024])\n",
    "b_4 = bias_variable([1024])\n",
    "\n",
    "W_5 = weight_variable([1024, 513])\n",
    "b_5 = bias_variable([513])\n",
    "\n",
    "y_1 = tf.nn.relu(tf.matmul(x, W_1) + b_1)\n",
    "y_2 = tf.nn.relu(tf.matmul(y_1, W_2) + b_2)\n",
    "y_3 = tf.nn.relu(tf.matmul(y_2, W_3) + b_3)\n",
    "y_4 = tf.nn.relu(tf.matmul(y_3, W_4) + b_4)\n",
    "y = tf.nn.relu(tf.matmul(y_4, W_5) + b_5) # predicted\n",
    "\n",
    "# Define loss and optimizer\n",
    "y_ = tf.placeholder(tf.float32, [None, 513]) # original\n",
    "\n",
    "cross_entropy = tf.losses.mean_squared_error(labels=y_, predictions=y)\n",
    "train_step = tf.train.AdamOptimizer().minimize(cross_entropy)"
   ]
  },
  {
   "cell_type": "code",
   "execution_count": 21,
   "metadata": {},
   "outputs": [],
   "source": [
    "sess = tf.InteractiveSession(config=config)\n",
    "tf.global_variables_initializer().run()\n",
    "\n",
    "# Train\n",
    "for _ in range(100):\n",
    "#     batch_xs, batch_ys = mnist.train.next_batch(1000)\n",
    "    ts,ce=sess.run([train_step,cross_entropy], feed_dict={x: mag_X.T, y_: mag_S.T})\n",
    "#     print(ts,ce)"
   ]
  },
  {
   "cell_type": "code",
   "execution_count": 22,
   "metadata": {},
   "outputs": [],
   "source": [
    "# Test trained model\n",
    "correct_prediction = tf.equal(tf.argmax(y, 1), tf.argmax(y_, 1))\n",
    "accuracy = tf.reduce_mean(tf.cast(correct_prediction, tf.float32))\n",
    "Stest_hat=sess.run(y, feed_dict={x: mag_Stest.T})\n",
    "S_hat=(Stest/mag_Stest)*Stest_hat.T"
   ]
  },
  {
   "cell_type": "code",
   "execution_count": 23,
   "metadata": {},
   "outputs": [
    {
     "name": "stdout",
     "output_type": "stream",
     "text": [
      "[[-0.        +0.        j  0.        +0.        j  0.        +0.        j\n",
      "  ...  0.        +0.        j  0.        +0.        j\n",
      "   0.        +0.        j]\n",
      " [-0.        +0.        j -0.        +0.        j -0.        +0.        j\n",
      "  ... -0.        +0.        j  0.        -0.        j\n",
      "   0.        +0.        j]\n",
      " [ 0.        +0.        j -0.        +0.        j  0.        +0.        j\n",
      "  ...  0.        +0.        j  0.        -0.        j\n",
      "   0.        -0.        j]\n",
      " ...\n",
      " [ 0.        +0.        j -0.00417365-0.00144668j -0.01936902+0.00243017j\n",
      "  ... -0.        +0.        j -0.        +0.        j\n",
      "  -0.        +0.        j]\n",
      " [-0.        +0.        j  0.        +0.        j  0.        +0.        j\n",
      "  ... -0.        +0.        j  0.        +0.        j\n",
      "   0.        +0.        j]\n",
      " [ 0.        +0.        j -0.        +0.        j -0.02208189+0.        j\n",
      "  ...  0.        +0.        j -0.        +0.        j\n",
      "  -0.        +0.        j]]\n"
     ]
    }
   ],
   "source": [
    "Stest_hat.shape\n",
    "print(S_hat)"
   ]
  },
  {
   "cell_type": "code",
   "execution_count": 24,
   "metadata": {},
   "outputs": [],
   "source": [
    "S_time=librosa.istft(S_hat, hop_length=512)\n",
    "librosa.output.write_wav('test_s_01_recons.wav', S_time, sr)"
   ]
  }
 ],
 "metadata": {
  "kernelspec": {
   "display_name": "Python 3",
   "language": "python",
   "name": "python3"
  },
  "language_info": {
   "codemirror_mode": {
    "name": "ipython",
    "version": 3
   },
   "file_extension": ".py",
   "mimetype": "text/x-python",
   "name": "python",
   "nbconvert_exporter": "python",
   "pygments_lexer": "ipython3",
   "version": "3.6.4"
  }
 },
 "nbformat": 4,
 "nbformat_minor": 2
}
